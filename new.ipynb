{
 "cells": [
  {
   "cell_type": "code",
   "execution_count": 1,
   "metadata": {},
   "outputs": [
    {
     "name": "stdout",
     "output_type": "stream",
     "text": [
      "\n",
      "Ответ от сервера:\n",
      "200\n",
      "\n",
      "Список ссылок:\n",
      "https://www.nix.ru/about.html\n",
      "https://job.nix.ru/\n",
      "https://www.nix.ru/shops/\n",
      "https://www.nix.ru/links.html\n",
      "https://www.nix.ru/working_hours.html\n",
      "https://www.nix.ru/price/kiosk.html\n",
      "https://www.nix.ru/price/price_list.html?section=motherboards_all\n",
      "https://www.nix.ru/price/price_list.html?section=cpu_all\n",
      "https://www.nix.ru/price/price_list.html?section=video_cards_all\n",
      "https://www.nix.ru/price/price_list.html?section=ssd_all\n",
      "https://www.nix.ru/price/price_list.html?section=hdd_all\n",
      "https://www.nix.ru/price/price_list.html?section=cases_all\n",
      "https://www.nix.ru/region_delivery.html\n",
      "https://www.nix.ru/computer_hardware_news/hardware_news_viewer.html?news_at_date=070123\n",
      "https://www.nix.ru/support/articles_list.html\n",
      "https://www.nix.ru/support/tests_list.html?cid=161\n",
      "https://www.nix.ru/support/tests_list.html?cid=101\n",
      "https://www.nix.ru/support/tests_list.html?cid=103\n",
      "https://www.nix.ru/support/tests_list.html?cid=900\n",
      "https://www.nix.ru/support/video_chips_theoretical_performance.html\n",
      "https://www.nix.ru/support/compare_tables_selector.html?type=30\n",
      "https://www.nix.ru/support/compare_tables_selector.html?type=1\n",
      "https://www.nix.ru/support/compare_tables_selector.html?type=2\n",
      "https://www.nix.ru/support/\n",
      "https://www.nix.ru/support/faq.html\n",
      "https://www.nix.ru/old_school.html\n",
      "\n",
      "Пункты меню:\n",
      "[<div class=\"lmenu_item\"><a class=\"np\" href=\"https://www.nix.ru/about.html\">О компании</a></div>, <div class=\"lmenu_item\"><a class=\"np\" href=\"https://job.nix.ru/\">Вакансии</a></div>, <div class=\"lmenu_item\"><a class=\"np\" href=\"https://www.nix.ru/shops/\">Где купить?</a></div>, <div class=\"lmenu_item\"><a class=\"np\" href=\"https://www.nix.ru/links.html\">Контакты</a></div>, <div class=\"lmenu_item\"><a class=\"np\" href=\"https://www.nix.ru/working_hours.html\">Часы работы</a></div>, <div class=\"lmenu_item\"><a class=\"np\" href=\"https://www.nix.ru/price/kiosk.html\">Киоск (ларек)</a></div>, <div class=\"lmenu_item\"><h2 class=\"price_cat_small b\"><a class=\"np\" href=\"https://www.nix.ru/price/price_list.html?section=motherboards_all\">Материнские платы цены</a></h2></div>, <div class=\"lmenu_item\"><h2 class=\"price_cat_small b\"><a class=\"np\" href=\"https://www.nix.ru/price/price_list.html?section=cpu_all\">Процессоры цены</a></h2></div>, <div class=\"lmenu_item\"><h2 class=\"price_cat_small b\"><a class=\"np\" href=\"https://www.nix.ru/price/price_list.html?section=video_cards_all\">Видеокарты цены</a></h2></div>, <div class=\"lmenu_item\"><h2 class=\"price_cat_small b\"><a class=\"np\" href=\"https://www.nix.ru/price/price_list.html?section=ssd_all\">SSD цены</a></h2></div>, <div class=\"lmenu_item\"><h2 class=\"price_cat_small b\"><a class=\"np\" href=\"https://www.nix.ru/price/price_list.html?section=hdd_all\">Жесткие диски цены</a></h2></div>, <div class=\"lmenu_item\"><h2 class=\"price_cat_small b\"><a class=\"np\" href=\"https://www.nix.ru/price/price_list.html?section=cases_all\">Корпуса для компьютеров цены</a></h2></div>, <div class=\"lmenu_item\"><a class=\"np\" href=\"https://www.nix.ru/region_delivery.html\">по России</a></div>, <div class=\"lmenu_item\"><a class=\"np\" href=\"https://www.nix.ru/computer_hardware_news/hardware_news_viewer.html?news_at_date=070123\"></a></div>, <div class=\"lmenu_item\"><a class=\"np\" href=\"https://www.nix.ru/support/articles_list.html\">Обзорные статьи</a></div>, <div class=\"lmenu_item\"> • <a class=\"np\" href=\"https://www.nix.ru/support/tests_list.html?cid=161\">тесты процессоров</a></div>, <div class=\"lmenu_item\"> • <a class=\"np\" href=\"https://www.nix.ru/support/tests_list.html?cid=101\">тесты видеокарт</a></div>, <div class=\"lmenu_item\"> • <a class=\"np\" href=\"https://www.nix.ru/support/tests_list.html?cid=103\">тесты HDD</a></div>, <div class=\"lmenu_item\"> • <a class=\"np\" href=\"https://www.nix.ru/support/tests_list.html?cid=900\">тесты SSD</a></div>, <div class=\"lmenu_item\"><a class=\"np\" href=\"https://www.nix.ru/support/video_chips_theoretical_performance.html\">Теоретический рейтинг чипов видеокарт</a></div>, <div class=\"lmenu_item\"> • <a class=\"np\" href=\"https://www.nix.ru/support/compare_tables_selector.html?type=30\">ядер процессоров</a></div>, <div class=\"lmenu_item\"> • <a class=\"np\" href=\"https://www.nix.ru/support/compare_tables_selector.html?type=1\">чипсетов мат.плат</a></div>, <div class=\"lmenu_item\"> • <a class=\"np\" href=\"https://www.nix.ru/support/compare_tables_selector.html?type=2\">чипов видеокарт</a></div>, <div class=\"lmenu_item\"><a class=\"np\" href=\"https://www.nix.ru/support/\">Драйверы</a></div>, <div class=\"lmenu_item\"><a class=\"np\" href=\"https://www.nix.ru/support/faq.html\">FAQ</a></div>, <div class=\"lmenu_item\"><a class=\"np\" href=\"https://www.nix.ru/old_school.html\">Архив конфигураций ПК</a></div>]\n",
      "\n",
      "Пункты меню222:\n",
      "[<a class=\"np\" href=\"https://www.nix.ru/about.html\">О компании</a>, <a class=\"np\" href=\"https://www.nix.ru/documents/cooperation.html\">Как стать дилером?</a>, <a class=\"np\" href=\"https://www.nix.ru/documents/budget.html\">Бюджетники и школы</a>, <a class=\"np\" href=\"https://www.nix.ru/documents/otkat.html\">Как получить откат?</a>, <a class=\"np\" href=\"https://job.nix.ru/\">Вакансии</a>, <a class=\"np\" href=\"https://www.nix.ru/shops/\">Где купить?</a>, <a class=\"np\" href=\"https://www.nix.ru/links.html\">Контакты</a>, <a class=\"np\" href=\"https://www.nix.ru/working_hours.html\">Часы работы</a>, <a class=\"np\" href=\"https://dengi.nix.ru\">Проверка поступления денег по безналу</a>, <a class=\"np\" href=\"https://dengi.nix.ru/#examples\">Примеры оформления доверенностей</a>, <a class=\"np\" href=\"https://www.nix.ru/price/index.html\">Наш полный прайс-лист</a>, <a class=\"np\" href=\"https://www.nix.ru/price/kiosk.html\">Киоск (ларек)</a>, <a class=\"np\" href=\"https://ftp2.nix.ru/download/price/NixSH.ZIP\">Уцененный товар</a>, <a class=\"np\" href=\"https://dengi.nix.ru\">Проверка поступления денег по безналу</a>, <a class=\"np\" href=\"https://www.nix.ru/price/price_list.html?section=computers_nix_all\">Компьютеры НИКС</a>, <a class=\"np\" href=\"https://www.nix.ru/price/price_list.html?section=notebooks_all\">Ноутбуки цены</a>, <a class=\"np\" href=\"https://www.nix.ru/price/price_list.html?section=monobloki_all\">Моноблоки цены</a>, <a class=\"np\" href=\"https://www.nix.ru/price/price_list.html?section=external_portable_hdd_all\">Внешние жесткие диски цены</a>, <a class=\"np\" href=\"https://www.nix.ru/price/price_list.html?section=flash\">Флешки цены</a>, <a class=\"np\" href=\"https://www.nix.ru/price/price_list.html?section=tablet_pc_all\">Планшеты цены</a>, <a class=\"np\" href=\"https://www.nix.ru/price/price_list.html?section=smartphones_mobile_phones_all\">Смартфоны цены</a>, <a class=\"np\" href=\"https://www.nix.ru/price/price_list.html?section=e-book-reader\">Электронные книги цены</a>, <a class=\"np\" href=\"https://www.nix.ru/price/price_list.html?section=cf_ms_sd_cards_buy\">Карты памяти цены</a>, <a class=\"np\" href=\"https://www.nix.ru/price/price_list.html?section=lcd_monitors_all\">Мониторы цены</a>, <a class=\"np\" href=\"https://www.nix.ru/price/price_list.html?section=printers_mfu_all\">Принтеры цены</a>, <a class=\"np\" href=\"https://www.nix.ru/price/price_list.html?section=printers_mfu_all\">МФУ цены</a>, <a class=\"np\" href=\"https://www.nix.ru/price/price_list.html?section=motherboards_all\">Материнские платы цены</a>, <a class=\"np\" href=\"https://www.nix.ru/price/price_list.html?section=cpu_all\">Процессоры цены</a>, <a class=\"np\" href=\"https://www.nix.ru/price/price_list.html?section=video_cards_all\">Видеокарты цены</a>, <a class=\"np\" href=\"https://www.nix.ru/price/price_list.html?section=ssd_all\">SSD цены</a>, <a class=\"np\" href=\"https://www.nix.ru/price/price_list.html?section=hdd_all\">Жесткие диски цены</a>, <a class=\"np\" href=\"https://www.nix.ru/price/price_list.html?section=cases_all\">Корпуса для компьютеров цены</a>, <a class=\"np\" href=\"https://www.nix.ru/autocatalog/cc/main.html\">Архив каталога описаний</a>, <a class=\"np\" href=\"https://www.nix.ru/rights.html\">Использование каталога</a>, <a class=\"np\" href=\"https://www.nix.ru/home_delivery.html\">физ.лицам</a>, <a class=\"np\" href=\"https://www.nix.ru/office_delivery.html\">юр.лицам</a>, <a class=\"np\" href=\"https://www.nix.ru/region_delivery.html\">по России</a>, <a class=\"np\" href=\"https://www.nix.ru/documents/rma_form_fiz.pdf\">Заявление на возврат товара (физическое лицо)</a>, <a class=\"np\" href=\"https://www.nix.ru/documents/rma_form_ur.pdf\">Заявление на возврат товара (юридическое лицо)</a>, <a class=\"np\" href=\"https://www.nix.ru/computer_hardware_news/hardware_news_viewer.html?news_at_date=070123\"></a>, <a class=\"np\" href=\"https://www.nix.ru/index_ncn.html\">НЕкомпьютерные новости</a>, <a class=\"np\" href=\"https://www.nix.ru/support/articles_list.html\">Обзоры и тестирования</a>, <a class=\"np\" href=\"https://www.nix.ru/news/promo_list.html\">Действующие акции</a>, <a class=\"np\" href=\"https://www.nix.ru/support/articles_list.html\">Обзорные статьи</a>, <a class=\"np\" href=\"https://www.nix.ru/support/tests_list.html?cid=161\">тесты процессоров</a>, <a class=\"np\" href=\"https://www.nix.ru/support/tests_list.html?cid=101\">тесты видеокарт</a>, <a class=\"np\" href=\"https://www.nix.ru/support/tests_list.html?cid=103\">тесты HDD</a>, <a class=\"np\" href=\"https://www.nix.ru/support/tests_list.html?cid=900\">тесты SSD</a>, <a class=\"np\" href=\"https://www.nix.ru/support/video_chips_theoretical_performance.html\">Теоретический рейтинг чипов видеокарт</a>, <a class=\"np\" href=\"https://www.nix.ru/support/compare_tables_selector.html?type=30\">ядер процессоров</a>, <a class=\"np\" href=\"https://www.nix.ru/support/compare_tables_selector.html?type=1\">чипсетов мат.плат</a>, <a class=\"np\" href=\"https://www.nix.ru/support/compare_tables_selector.html?type=2\">чипов видеокарт</a>, <a class=\"np\" href=\"https://www.nix.ru/support/\">Драйверы</a>, <a class=\"np\" href=\"https://www.nix.ru/support/faq.html\">FAQ</a>, <a class=\"np\" href=\"https://www.nix.ru/old_school.html\">Архив конфигураций ПК</a>, <a class=\"np\" href=\"/working_hours.html\">\n",
      "<span class=\"nix-icon32 nix-icon-telephone-go\">Телефон НИКС</span>\n",
      "<span class=\"rc huge\">\n",
      "+7 (495) 974-3333\n",
      "</span>\n",
      "</a>]"
     ]
    },
    {
     "ename": "TypeError",
     "evalue": "'NoneType' object is not subscriptable",
     "output_type": "error",
     "traceback": [
      "\u001b[1;31m---------------------------------------------------------------------------\u001b[0m",
      "\u001b[1;31mTypeError\u001b[0m                                 Traceback (most recent call last)",
      "Cell \u001b[1;32mIn [1], line 27\u001b[0m\n\u001b[0;32m     25\u001b[0m \u001b[39mprint\u001b[39m(news_names_inf, end\u001b[39m=\u001b[39m\u001b[39m'\u001b[39m\u001b[39m'\u001b[39m)\n\u001b[0;32m     26\u001b[0m \u001b[39mfor\u001b[39;00m name \u001b[39min\u001b[39;00m news_names_inf:\n\u001b[1;32m---> 27\u001b[0m    \u001b[39mprint\u001b[39m(name\u001b[39m.\u001b[39;49ma[\u001b[39m'\u001b[39;49m\u001b[39mtitle\u001b[39;49m\u001b[39m'\u001b[39;49m])\n",
      "\u001b[1;31mTypeError\u001b[0m: 'NoneType' object is not subscriptable"
     ]
    }
   ],
   "source": [
    "import requests\n",
    "from bs4 import BeautifulSoup as bs\n",
    "import pandas as pd\n",
    "\n",
    "URL_TEMPLATE = \"https://www.nix.ru/\"\n",
    "r = requests.get(URL_TEMPLATE)\n",
    "print()\n",
    "print('Ответ от сервера:')\n",
    "print(r.status_code)\n",
    "#print(r.text)\n",
    "\n",
    "soup = bs(r.text, \"html.parser\")\n",
    "news_names = soup.find_all('div', class_='lmenu_item')\n",
    "print()\n",
    "print('Список ссылок:')\n",
    "for name in news_names:\n",
    "   print(name.a['href'])\n",
    "print()\n",
    "print('Пункты меню:')\n",
    "print(news_names)\n",
    "\n",
    "news_names_inf = soup.find_all('a', class_='np')\n",
    "print()\n",
    "print('Пункты меню222:')\n",
    "print(news_names_inf, end='')\n",
    "for name in news_names_inf:\n",
    "   print(name.a['title'])"
   ]
  }
 ],
 "metadata": {
  "kernelspec": {
   "display_name": "Python 3",
   "language": "python",
   "name": "python3"
  },
  "language_info": {
   "codemirror_mode": {
    "name": "ipython",
    "version": 3
   },
   "file_extension": ".py",
   "mimetype": "text/x-python",
   "name": "python",
   "nbconvert_exporter": "python",
   "pygments_lexer": "ipython3",
   "version": "3.11.0 (main, Oct 24 2022, 18:26:48) [MSC v.1933 64 bit (AMD64)]"
  },
  "orig_nbformat": 4,
  "vscode": {
   "interpreter": {
    "hash": "c261aea317cc0286b3b3261fbba9abdec21eaa57589985bb7a274bf54d6cc0a7"
   }
  }
 },
 "nbformat": 4,
 "nbformat_minor": 2
}
